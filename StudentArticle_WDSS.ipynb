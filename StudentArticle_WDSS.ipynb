{
 "cells": [
  {
   "cell_type": "markdown",
   "metadata": {},
   "source": [
    "# Which factors actually affect your grades? "
   ]
  },
  {
   "cell_type": "markdown",
   "metadata": {},
   "source": [
    "With exam period approaching fast, every student is wondering how to score the best possible grade. Some factors like how much sleep you're getting or how healthy you are can seem like obviously correlated to your final grade. What about your relationship status? How much should you be studying to achieve the grade you want? Does the subject you're studying influences your final grade? In this article, we will use two datasets containing student maths and Portuguese language performance in two different Portuguese schools and see which factors affected student performance the most. \n",
    "\n",
    "The variables are the same for the two datasets:\n",
    "\n",
    "1. school - student's school (binary: 'GP' - Gabriel Pereira or 'MS' - Mousinho da Silveira)\n",
    "2. sex - student's sex (binary: 'F' - female or 'M' - male)\n",
    "3. age - student's age (numeric: from 15 to 22)\n",
    "4. address - student's home address type (binary: 'U' - urban or 'R' - rural)\n",
    "5. famsize - family size (binary: 'LE3' - less or equal to 3 or 'GT3' - greater than 3)\n",
    "6. Pstatus - parent's cohabitation status (binary: 'T' - living together or 'A' - apart)\n",
    "7. Medu - mother's education (numeric: 0 - none, 1 - primary education (4th grade), 2\n",
    "â€“ 5th to 9th grade, 3 â€“ secondary education or 4 â€“ higher education)\n",
    "8. Fedu - father's education (numeric: 0 - none, 1 - primary education (4th grade), 2 â€“ 5th to 9th grade, 3 â€“ secondary education or 4 â€“ higher education)\n",
    "9. Mjob - mother's job (nominal: 'teacher', 'health' care related, civil 'services' (e.g. administrative or police), 'at_home' or 'other')\n",
    "10. Fjob - father's job (nominal: 'teacher', 'health' care related, civil 'services' (e.g. administrative or police), 'at_home' or 'other')\n",
    "11. reason - reason to choose this school (nominal: close to 'home', school 'reputation', 'course' preference or 'other')\n",
    "12. guardian - student's guardian (nominal: 'mother', 'father' or 'other') \n",
    "13. traveltime - home to school travel time (numeric: 1 - <15 min., 2 - 15 to 30 min., 3 - 30. min. to 1 hour, or 4 - >1 hour)\n",
    "14. studytime - weekly study time (numeric: 1 - <2 hours, 2 - 2 to 5 hours, 3 - 5 to 10 hours, or 4 - >10 hours)\n",
    "15. failures - number of past class failures (numeric: n if 1<=n<3, else 4)\n",
    "16. schoolsup - extra educational support (binary: yes or no)\n",
    "17. famsup - family educational support (binary: yes or no)\n",
    "18. paid - extra paid classes within the course subject (Math or Portuguese) (binary: yes or no)\n",
    "19. activities - extra-curricular activities (binary: yes or no)\n",
    "20. nursery - attended nursery school (binary: yes or no)\n",
    "21. higher - wants to take higher education (binary: yes or no)\n",
    "22. internet - Internet access at home (binary: yes or no)\n",
    "23. romantic - with a romantic relationship (binary: yes or no)\n",
    "24. famrel - quality of family relationships (numeric: from 1 - very bad to 5 - excellent)\n",
    "25. freetime - free time after school (numeric: from 1 - very low to 5 - very high)\n",
    "26. goout - going out with friends (numeric: from 1 - very low to 5 - very high)\n",
    "27. Dalc - workday alcohol consumption (numeric: from 1 - very low to 5 - very high)\n",
    "28. Walc - weekend alcohol consumption (numeric: from 1 - very low to 5 - very high)\n",
    "29. health - current health status (numeric: from 1 - very bad to 5 - very good)\n",
    "30. absences - number of school absences (numeric: from 0 to 93)\n",
    "31. G1 - first period grade (numeric: from 0 to 20)\n",
    "31. G2 - second period grade (numeric: from 0 to 20)\n",
    "32. G3 - final grade (numeric: from 0 to 20, output target)\n",
    "\n",
    "I will be conducting a basic analysis of the dataset followed by linear and multi-linear regressions. I will also build a machine learning algorithm that will try to predict the grades the students will achieve.  "
   ]
  },
  {
   "cell_type": "markdown",
   "metadata": {},
   "source": [
    "## Basic Description and Analysis"
   ]
  },
  {
   "cell_type": "raw",
   "metadata": {},
   "source": [
    "We will start by importing all the necessary packages and load the datasets into a pandas dataframe."
   ]
  },
  {
   "cell_type": "code",
   "execution_count": null,
   "metadata": {
    "scrolled": true
   },
   "outputs": [],
   "source": [
    "# Import necessary packages\n",
    "import pandas as pd  \n",
    "import numpy as np  \n",
    "import copy\n",
    "import seaborn as sns\n",
    "import matplotlib.pyplot as plt\n",
    "import statistics as stats\n",
    "from sklearn import linear_model\n",
    "from sklearn.model_selection import train_test_split\n",
    "from sklearn.linear_model import LinearRegression\n",
    "\n",
    "# Load the dataset from the csv file using pandas\n",
    "data_m = pd.read_csv(r'data\\student-mat.csv', sep=';')\n",
    "data_p = pd.read_csv(r'data\\student-por.csv', sep=';')"
   ]
  },
  {
   "cell_type": "code",
   "execution_count": 5,
   "metadata": {},
   "outputs": [],
   "source": [
    "# Imports hidden from reader\n",
    "from IPython.display import Markdown"
   ]
  },
  {
   "cell_type": "raw",
   "metadata": {},
   "source": [
    "We will then run a basic description of the datasets."
   ]
  },
  {
   "cell_type": "code",
   "execution_count": 6,
   "metadata": {},
   "outputs": [
    {
     "name": "stdout",
     "output_type": "stream",
     "text": [
      "First 5 lines of the maths performance dataset\n",
      "\n",
      "  school sex  age address famsize Pstatus  Medu  Fedu     Mjob      Fjob  ...  \\\n",
      "0     GP   F   18       U     GT3       A     4     4  at_home   teacher  ...   \n",
      "1     GP   F   17       U     GT3       T     1     1  at_home     other  ...   \n",
      "2     GP   F   15       U     LE3       T     1     1  at_home     other  ...   \n",
      "3     GP   F   15       U     GT3       T     4     2   health  services  ...   \n",
      "4     GP   F   16       U     GT3       T     3     3    other     other  ...   \n",
      "\n",
      "  famrel freetime  goout  Dalc  Walc health absences  G1  G2  G3  \n",
      "0      4        3      4     1     1      3        6   5   6   6  \n",
      "1      5        3      3     1     1      3        4   5   5   6  \n",
      "2      4        3      2     2     3      3       10   7   8  10  \n",
      "3      3        2      2     1     1      5        2  15  14  15  \n",
      "4      4        3      2     1     2      5        4   6  10  10  \n",
      "\n",
      "[5 rows x 33 columns]\n",
      "\n",
      "First 5 lines of the Portuguese performance dataset\n",
      "\n",
      "  school sex  age address famsize Pstatus  Medu  Fedu     Mjob      Fjob  ...  \\\n",
      "0     GP   F   18       U     GT3       A     4     4  at_home   teacher  ...   \n",
      "1     GP   F   17       U     GT3       T     1     1  at_home     other  ...   \n",
      "2     GP   F   15       U     LE3       T     1     1  at_home     other  ...   \n",
      "3     GP   F   15       U     GT3       T     4     2   health  services  ...   \n",
      "4     GP   F   16       U     GT3       T     3     3    other     other  ...   \n",
      "\n",
      "  famrel freetime  goout  Dalc  Walc health absences  G1  G2  G3  \n",
      "0      4        3      4     1     1      3        4   0  11  11  \n",
      "1      5        3      3     1     1      3        2   9  11  11  \n",
      "2      4        3      2     2     3      3        6  12  13  12  \n",
      "3      3        2      2     1     1      5        0  14  14  14  \n",
      "4      4        3      2     1     2      5        0  11  13  13  \n",
      "\n",
      "[5 rows x 33 columns]\n",
      "\n",
      "Description of the variables of the maths performance dataset\n",
      "\n",
      "              age        Medu        Fedu  traveltime   studytime    failures  \\\n",
      "count  395.000000  395.000000  395.000000  395.000000  395.000000  395.000000   \n",
      "mean    16.696203    2.749367    2.521519    1.448101    2.035443    0.334177   \n",
      "std      1.276043    1.094735    1.088201    0.697505    0.839240    0.743651   \n",
      "min     15.000000    0.000000    0.000000    1.000000    1.000000    0.000000   \n",
      "25%     16.000000    2.000000    2.000000    1.000000    1.000000    0.000000   \n",
      "50%     17.000000    3.000000    2.000000    1.000000    2.000000    0.000000   \n",
      "75%     18.000000    4.000000    3.000000    2.000000    2.000000    0.000000   \n",
      "max     22.000000    4.000000    4.000000    4.000000    4.000000    3.000000   \n",
      "\n",
      "           famrel    freetime       goout        Dalc        Walc      health  \\\n",
      "count  395.000000  395.000000  395.000000  395.000000  395.000000  395.000000   \n",
      "mean     3.944304    3.235443    3.108861    1.481013    2.291139    3.554430   \n",
      "std      0.896659    0.998862    1.113278    0.890741    1.287897    1.390303   \n",
      "min      1.000000    1.000000    1.000000    1.000000    1.000000    1.000000   \n",
      "25%      4.000000    3.000000    2.000000    1.000000    1.000000    3.000000   \n",
      "50%      4.000000    3.000000    3.000000    1.000000    2.000000    4.000000   \n",
      "75%      5.000000    4.000000    4.000000    2.000000    3.000000    5.000000   \n",
      "max      5.000000    5.000000    5.000000    5.000000    5.000000    5.000000   \n",
      "\n",
      "         absences          G1          G2          G3  \n",
      "count  395.000000  395.000000  395.000000  395.000000  \n",
      "mean     5.708861   10.908861   10.713924   10.415190  \n",
      "std      8.003096    3.319195    3.761505    4.581443  \n",
      "min      0.000000    3.000000    0.000000    0.000000  \n",
      "25%      0.000000    8.000000    9.000000    8.000000  \n",
      "50%      4.000000   11.000000   11.000000   11.000000  \n",
      "75%      8.000000   13.000000   13.000000   14.000000  \n",
      "max     75.000000   19.000000   19.000000   20.000000  \n",
      "\n",
      "Description of the variables of the Portuguese performance dataset\n",
      "\n",
      "              age        Medu        Fedu  traveltime   studytime    failures  \\\n",
      "count  649.000000  649.000000  649.000000  649.000000  649.000000  649.000000   \n",
      "mean    16.744222    2.514638    2.306626    1.568567    1.930663    0.221880   \n",
      "std      1.218138    1.134552    1.099931    0.748660    0.829510    0.593235   \n",
      "min     15.000000    0.000000    0.000000    1.000000    1.000000    0.000000   \n",
      "25%     16.000000    2.000000    1.000000    1.000000    1.000000    0.000000   \n",
      "50%     17.000000    2.000000    2.000000    1.000000    2.000000    0.000000   \n",
      "75%     18.000000    4.000000    3.000000    2.000000    2.000000    0.000000   \n",
      "max     22.000000    4.000000    4.000000    4.000000    4.000000    3.000000   \n",
      "\n",
      "           famrel    freetime       goout        Dalc        Walc      health  \\\n",
      "count  649.000000  649.000000  649.000000  649.000000  649.000000  649.000000   \n",
      "mean     3.930663    3.180277    3.184900    1.502311    2.280431    3.536210   \n",
      "std      0.955717    1.051093    1.175766    0.924834    1.284380    1.446259   \n",
      "min      1.000000    1.000000    1.000000    1.000000    1.000000    1.000000   \n",
      "25%      4.000000    3.000000    2.000000    1.000000    1.000000    2.000000   \n",
      "50%      4.000000    3.000000    3.000000    1.000000    2.000000    4.000000   \n",
      "75%      5.000000    4.000000    4.000000    2.000000    3.000000    5.000000   \n",
      "max      5.000000    5.000000    5.000000    5.000000    5.000000    5.000000   \n",
      "\n",
      "         absences          G1          G2          G3  \n",
      "count  649.000000  649.000000  649.000000  649.000000  \n",
      "mean     3.659476   11.399076   11.570108   11.906009  \n",
      "std      4.640759    2.745265    2.913639    3.230656  \n",
      "min      0.000000    0.000000    0.000000    0.000000  \n",
      "25%      0.000000   10.000000   10.000000   10.000000  \n",
      "50%      2.000000   11.000000   11.000000   12.000000  \n",
      "75%      6.000000   13.000000   13.000000   14.000000  \n",
      "max     32.000000   19.000000   19.000000   19.000000  \n"
     ]
    }
   ],
   "source": [
    "print('First 5 lines of the maths performance dataset')\n",
    "print()\n",
    "print(data_m.head())\n",
    "print()\n",
    "print('First 5 lines of the Portuguese performance dataset')\n",
    "print()\n",
    "print(data_p.head())\n",
    "print()\n",
    "print('Description of the variables of the maths performance dataset')\n",
    "print()\n",
    "print(data_m.describe())\n",
    "print()\n",
    "print('Description of the variables of the Portuguese performance dataset')\n",
    "print()\n",
    "print(data_p.describe())"
   ]
  },
  {
   "cell_type": "markdown",
   "metadata": {},
   "source": [
    "The main takeaways from this description are that there are 395 high school students in the maths dataset and 649 in the Portuguese dataset. The grades of the student are from 0 to 20. \n",
    "\n",
    "\n",
    "(add takeaways)"
   ]
  },
  {
   "cell_type": "markdown",
   "metadata": {},
   "source": [
    "Now let's check final grades distribution for both subjects."
   ]
  },
  {
   "cell_type": "code",
   "execution_count": 7,
   "metadata": {},
   "outputs": [
    {
     "data": {
      "image/png": "[encoded data removed]",
      "text/plain": [
       "<Figure size 432x288 with 1 Axes>"
      ]
     },
     "metadata": {
      "needs_background": "light"
     },
     "output_type": "display_data"
    },
    {
     "name": "stdout",
     "output_type": "stream",
     "text": [
      "The average final grade of the maths students is 10.415189873417722\n"
     ]
    },
    {
     "data": {
      "image/png": "[encoded data removed]",
      "text/plain": [
       "<Figure size 432x288 with 1 Axes>"
      ]
     },
     "metadata": {
      "needs_background": "light"
     },
     "output_type": "display_data"
    },
    {
     "name": "stdout",
     "output_type": "stream",
     "text": [
      "The average final grade of the Portuguese students is 11.906009244992296\n"
     ]
    }
   ],
   "source": [
    "b = sns.countplot(data_m['G3'])\n",
    "b.axes.set_title('Distribution of final grade of students', fontsize = 20)\n",
    "b.set_xlabel('Final Grade', fontsize = 15)\n",
    "b.set_ylabel('Count', fontsize = 15)\n",
    "plt.show()\n",
    "G3m = data_m['G3']\n",
    "average_G3m = stats.mean(G3m)\n",
    "print('The average final grade of the maths students is ' + str(average_G3m))\n",
    "\n",
    "b = sns.countplot(data_p['G3'])\n",
    "b.axes.set_title('Distribution of final grade of students', fontsize = 15)\n",
    "b.set_xlabel('Final Grade', fontsize = 15)\n",
    "b.set_ylabel('Count', fontsize = 15)\n",
    "plt.show()\n",
    "G3p = data_p['G3']\n",
    "average_G3p = stats.mean(G3p)\n",
    "print('The average final grade of the Portuguese students is ' + str(average_G3p))"
   ]
  },
  {
   "cell_type": "code",
   "execution_count": 8,
   "metadata": {},
   "outputs": [
    {
     "data": {
      "text/markdown": [
       "\n",
       "We can also calculate that the average final grades\n",
       "for maths and Portuguese students are 10.415 and \n",
       "11.906, respectively. This suggests that Portuguese\n",
       "students score higher on average than maths students although this\n",
       "comparision could easily have been skewed by the large number of\n",
       "maths students scoring zero.\n"
      ],
      "text/plain": [
       "<IPython.core.display.Markdown object>"
      ]
     },
     "execution_count": 8,
     "metadata": {},
     "output_type": "execute_result"
    }
   ],
   "source": [
    "Markdown(f\"\"\"\n",
    "We can also calculate that the average final grades\n",
    "for maths and Portuguese students are {round(average_G3m, 3)} and \n",
    "{round(average_G3p, 3)}, respectively. This suggests that Portuguese\n",
    "students score higher on average than maths students although this\n",
    "comparision could easily have been skewed by the large number of\n",
    "maths students scoring zero.\n",
    "\"\"\")"
   ]
  },
  {
   "cell_type": "markdown",
   "metadata": {},
   "source": [
    "### Finding correlations"
   ]
  },
  {
   "cell_type": "markdown",
   "metadata": {},
   "source": [
    "We are now going to automatically find the variables with the strongest correlation to the final grades for both datasets. Finding correlations between non-numeric features and the outcome can get a bit messy, so we will focus on testing only the existing numerical values of the datasets at first. To better visualize the insights, we will also use correlation heat maps for both datasets. For the heat maps, the darker a square is the stronger the correlation is. "
   ]
  },
  {
   "cell_type": "code",
   "execution_count": 11,
   "metadata": {},
   "outputs": [
    {
     "data": {
      "image/png": "[encoded data removed]",
      "text/plain": [
       "<Figure size 864x432 with 3 Axes>"
      ]
     },
     "metadata": {
      "needs_background": "light"
     },
     "output_type": "display_data"
    }
   ],
   "source": [
    "corr = data_m.corr()\n",
    "grade_corr = corr['G3'].sort_values()\n",
    "\n",
    "cmap = sns.diverging_palette(50, 275,s=80, l=55, n=200)\n",
    "\n",
    "# match colour map with correlation plot\n",
    "col_idx = [int((c + 1) * 199 / 2) for c in grade_corr]\n",
    "bar_cols = sns.color_palette([cmap[i] for i in col_idx])\n",
    "\n",
    "fig, axs = plt.subplots(1, 2, figsize=(12, 6))\n",
    "plt.subplots_adjust(wspace=.3)\n",
    "\n",
    "sns.barplot(\n",
    "    grade_corr.index,\n",
    "    grade_corr.values,\n",
    "    palette=bar_cols,\n",
    "    edgecolor=\".2\",\n",
    "    ax=axs[0]\n",
    ")\n",
    "axs[0].set_xticklabels(\n",
    "    axs[0].get_xticklabels(),\n",
    "    rotation=45,\n",
    "    horizontalalignment='right'\n",
    ")\n",
    "axs[0].set_title(\"Correlations between predictors and final grade\")\n",
    "axs[0].grid(b=True, which='major', color='lightgrey', linewidth=1.0)\n",
    "axs[0].set_axisbelow(True)\n",
    "\n",
    "sns.heatmap(\n",
    "    corr, \n",
    "    vmin=-1, vmax=1, center=0,\n",
    "    cmap=sns.diverging_palette(50, 275,s=80, l=55, n=200),\n",
    "    square=True,\n",
    "    ax=axs[1]\n",
    ")\n",
    "axs[1].set_xticklabels(\n",
    "    axs[1].get_xticklabels(),\n",
    "    rotation=45,\n",
    "    horizontalalignment='right'\n",
    ")\n",
    "axs[1].set_title(\"Correlations between all variables\");"
   ]
  },
  {
   "cell_type": "code",
   "execution_count": 12,
   "metadata": {},
   "outputs": [
    {
     "name": "stdout",
     "output_type": "stream",
     "text": [
      "failures     -0.393316\n",
      "Dalc         -0.204719\n",
      "Walc         -0.176619\n",
      "traveltime   -0.127173\n",
      "freetime     -0.122705\n",
      "age          -0.106505\n",
      "health       -0.098851\n",
      "absences     -0.091379\n",
      "goout        -0.087641\n",
      "famrel        0.063361\n",
      "Fedu          0.211800\n",
      "Medu          0.240151\n",
      "studytime     0.249789\n",
      "G1            0.826387\n",
      "G2            0.918548\n",
      "G3            1.000000\n",
      "Name: G3, dtype: float64\n"
     ]
    },
    {
     "data": {
      "image/png": "[encoded data removed]",
      "text/plain": [
       "<Figure size 432x288 with 2 Axes>"
      ]
     },
     "metadata": {
      "needs_background": "light"
     },
     "output_type": "display_data"
    }
   ],
   "source": [
    "print(data_p.corr()['G3'].sort_values())\n",
    "corr = data_p.corr()\n",
    "ax = sns.heatmap(\n",
    "    corr, \n",
    "    vmin=-1, vmax=1, center=0,\n",
    "    cmap=sns.diverging_palette(50, 275,s=80, l=55, n=200),\n",
    "    square=True\n",
    ")\n",
    "ax.set_xticklabels(\n",
    "    ax.get_xticklabels(),\n",
    "    rotation=45,\n",
    "    horizontalalignment='right'\n",
    ");"
   ]
  },
  {
   "cell_type": "markdown",
   "metadata": {},
   "source": [
    "Insights:\n",
    "- For both datasets, the number of past classes failures has a strong negative correlation with the final grade.\n",
    "- Other common variables with a negative correlation are: age, frequency of going out with friends, traveltime, consumption of alcohol and health. \n",
    "- G1 and G2 have very strong positive correlation coefficients for both datasets because student performence usually remains constant throughout the year; we will therefore ignore them. \n",
    "- Other common variabes with a positive correlation are: studytime, education of parents and family relationship."
   ]
  },
  {
   "cell_type": "markdown",
   "metadata": {},
   "source": [
    "### One-Hot Encoding"
   ]
  },
  {
   "cell_type": "markdown",
   "metadata": {},
   "source": [
    "In order to get more insight from these datasets, we need to be able to use the categorical variables as well. An example of categorical variable is the school variable (the student is either at Gabriel Pereira or Mousinho da Silveira) where the variable values are nominal. We will use the One-Hot Encoding technique which assigns binary numbers to each variable values. Here is an example of how it would look like for the variable 'Father's job':"
   ]
  },
  {
   "cell_type": "markdown",
   "metadata": {},
   "source": [
    "| Father's Job    | Occupation_teacher| Occupation_health | Occupation_services |Occupation_at_home |Occupation_other |\n",
    "| ----------------|:----------------: |:-----------------:|:------------------: |:----------------: |:---------------: |\n",
    "| teacher         | 1                 | 0                 | 0                   |0                  |0                 |\n",
    "| health          | 0                 | 1                 | 0                   |0                  |0                 |\n",
    "| services        | 0                 | 0                 | 1                   |0                  |0                 |\n",
    "| at_home         | 0                 | 0                 | 0                   |1                  |0                 |\n",
    "| other           | 0                 | 0                 | 0                   |0                  |1                 |"
   ]
  },
  {
   "cell_type": "code",
   "execution_count": 13,
   "metadata": {},
   "outputs": [],
   "source": [
    "# Select only categorical variables for maths performance dataset\n",
    "category_dfm = data_m.select_dtypes(include=['object'])\n",
    "\n",
    "# One hot encode the variables\n",
    "dummy_dfm = pd.get_dummies(category_dfm)\n",
    "\n",
    "# Put the grade back in the dataframe\n",
    "dummy_dfm['G3'] = data_m['G3']"
   ]
  },
  {
   "cell_type": "code",
   "execution_count": 14,
   "metadata": {},
   "outputs": [],
   "source": [
    "# Select only categorical variables for Portuguese performance dataset\n",
    "category_dfp = data_p.select_dtypes(include=['object'])\n",
    "\n",
    "# One hot encode the variables\n",
    "dummy_dfp = pd.get_dummies(category_dfp)\n",
    "\n",
    "# Put the grade back in the dataframe\n",
    "dummy_dfp['G3'] = data_p['G3']"
   ]
  },
  {
   "cell_type": "markdown",
   "metadata": {},
   "source": [
    "We can now analyze the correlation coefficients for the final grades of all the variables for both datasets."
   ]
  },
  {
   "cell_type": "code",
   "execution_count": 15,
   "metadata": {},
   "outputs": [
    {
     "name": "stdout",
     "output_type": "stream",
     "text": [
      "higher_no           -0.182465\n",
      "romantic_yes        -0.129970\n",
      "Mjob_at_home        -0.115634\n",
      "address_R           -0.105756\n",
      "sex_F               -0.103456\n",
      "paid_no             -0.101996\n",
      "reason_course       -0.098950\n",
      "internet_no         -0.098483\n",
      "Mjob_other          -0.096477\n",
      "guardian_other      -0.087774\n",
      "schoolsup_yes       -0.082788\n",
      "famsize_GT3         -0.081407\n",
      "Pstatus_T           -0.058009\n",
      "Fjob_other          -0.053483\n",
      "nursery_no          -0.051568\n",
      "school_MS           -0.045017\n",
      "famsup_yes          -0.039157\n",
      "reason_home         -0.021359\n",
      "Fjob_services       -0.016108\n",
      "activities_no       -0.016100\n",
      "Fjob_at_home        -0.013385\n",
      "activities_yes       0.016100\n",
      "guardian_mother      0.022338\n",
      "guardian_father      0.032493\n",
      "famsup_no            0.039157\n",
      "school_GP            0.045017\n",
      "nursery_yes          0.051568\n",
      "reason_other         0.052008\n",
      "Fjob_health          0.057111\n",
      "Mjob_teacher         0.057712\n",
      "Pstatus_A            0.058009\n",
      "Mjob_services        0.078429\n",
      "famsize_LE3          0.081407\n",
      "schoolsup_no         0.082788\n",
      "Fjob_teacher         0.095374\n",
      "reason_reputation    0.095692\n",
      "internet_yes         0.098483\n",
      "paid_yes             0.101996\n",
      "sex_M                0.103456\n",
      "address_U            0.105756\n",
      "Mjob_health          0.116158\n",
      "romantic_no          0.129970\n",
      "higher_yes           0.182465\n",
      "G3                   1.000000\n",
      "Name: G3, dtype: float64\n"
     ]
    },
    {
     "data": {
      "image/png": "[encoded data removed]",
      "text/plain": [
       "<Figure size 432x288 with 2 Axes>"
      ]
     },
     "metadata": {
      "needs_background": "light"
     },
     "output_type": "display_data"
    }
   ],
   "source": [
    "# Correlation coefficients for maths student performance\n",
    "print(dummy_dfm.corr()['G3'].sort_values())\n",
    "\n",
    "# To visualize data better we can add a correlation heat map\n",
    "corr = dummy_dfm.corr()\n",
    "ax = sns.heatmap(\n",
    "    corr, \n",
    "    vmin=-1, vmax=1, center=0,\n",
    "    cmap=sns.diverging_palette(50, 275,s=80, l=55, n=300),\n",
    "    square=True\n",
    ")\n",
    "ax.set_xticklabels(\n",
    "    ax.get_xticklabels(),\n",
    "    rotation=50,\n",
    "    horizontalalignment='right'\n",
    ");"
   ]
  },
  {
   "cell_type": "code",
   "execution_count": null,
   "metadata": {
    "scrolled": true
   },
   "outputs": [],
   "source": [
    "# Correlation coefficients for Portuguese student performance\n",
    "print(dummy_dfp.corr()['G3'].sort_values())\n",
    "\n",
    "# To visualize data better we can add a correlation heat map\n",
    "corr = dummy_dfp.corr()\n",
    "ax = sns.heatmap(\n",
    "    corr, \n",
    "    vmin=-1, vmax=1, center=0,\n",
    "    cmap=sns.diverging_palette(50, 275,s=80, l=55, n=300),\n",
    "    square=True\n",
    ")\n",
    "ax.set_xticklabels(\n",
    "    ax.get_xticklabels(),\n",
    "    rotation=50,\n",
    "    horizontalalignment='right'\n",
    ");"
   ]
  },
  {
   "cell_type": "markdown",
   "metadata": {},
   "source": [
    "Insights:\n",
    "- Variables that impact negatively final grades in both datasets: in a romantic rlationship, does not want to go to higher education, lives in a rural area, has a stay-at-home mum, has no access to internet.\n",
    "- Variables that impact positively final grades in both datasets: not in a romantic relationship, wants to go to higher education, lives in a urban area, has access to internet.\n",
    "- In Portuguese performance dataset, the school variable has a very high impact on the final grade (negatively impacted if goes to MS and positively impacted if goes to GP).\n",
    "- Males seem to score higher in maths whereas females score higher in Portuguese "
   ]
  },
  {
   "cell_type": "markdown",
   "metadata": {},
   "source": [
    "### Data visualization"
   ]
  },
  {
   "cell_type": "raw",
   "metadata": {},
   "source": [
    "Some of the results are quite unexepected so let's visualize them. "
   ]
  },
  {
   "cell_type": "code",
   "execution_count": null,
   "metadata": {},
   "outputs": [],
   "source": [
    "# Grade distribution by address\n",
    "sns.kdeplot(data_m.loc[data_m['address'] == 'U', 'G3'], label='Urban', shade = True)\n",
    "sns.kdeplot(data_m.loc[data_m['address'] == 'R', 'G3'], label='Rural', shade = True)\n",
    "plt.title('Urban vs Rural students Maths Performance', fontsize = 20)\n",
    "plt.xlabel('Grade', fontsize = 20);\n",
    "plt.ylabel('Density', fontsize = 20)\n",
    "plt.show()\n",
    "print()\n",
    "sns.kdeplot(data_p.loc[data_p['address'] == 'U', 'G3'], label='Urban', shade = True)\n",
    "sns.kdeplot(data_p.loc[data_p['address'] == 'R', 'G3'], label='Rural', shade = True)\n",
    "plt.title('Urban vs Rural students Portuguese Performance', fontsize = 20)\n",
    "plt.xlabel('Grade', fontsize = 20);\n",
    "plt.ylabel('Density', fontsize = 20)\n",
    "plt.show()"
   ]
  },
  {
   "cell_type": "markdown",
   "metadata": {},
   "source": [
    "Insights: \n",
    "- For maths performance, not too much difference between urban and rural but urban students tend to score slightly more.\n",
    "- For Portuguese performance, we can see that urban students score higher more often than rural students."
   ]
  },
  {
   "cell_type": "code",
   "execution_count": null,
   "metadata": {},
   "outputs": [],
   "source": [
    "#Scatter plot: final grade vs relationship status\n",
    "b = sns.swarmplot(x='romantic', y='G3', data=data_m)\n",
    "b.axes.set_title('Relationship vs Final grade Maths', fontsize = 25)\n",
    "b.set_xlabel('Relationship', fontsize = 20)\n",
    "b.set_ylabel('Final Grade', fontsize = 20)\n",
    "plt.show()\n",
    "print()\n",
    "\n",
    "#Print number of students in romantic relationship in the maths performance dataset\n",
    "couple_maths= data_m[(data_m['romantic']) == \"yes\"][\"romantic\"].count()\n",
    "print('In the maths dataset, ' + str(couple_maths) + ' students out of 395 are in a couple.')\n",
    "print()\n",
    "\n",
    "#Repeat for Portuguese dataset\n",
    "b = sns.swarmplot(x='romantic', y='G3', data=data_p)\n",
    "b.axes.set_title('Relationship vs Final grade Portuguese', fontsize = 25)\n",
    "b.set_xlabel('Relationship', fontsize = 20)\n",
    "b.set_ylabel('Final Grade', fontsize = 20)\n",
    "plt.show() \n",
    "print()\n",
    "couple_por= data_p[(data_p['romantic']) == \"yes\"][\"romantic\"].count()\n",
    "print('In the Portuguese dataset, ' + str(couple_por) + ' students out of 649 are in a couple.')"
   ]
  },
  {
   "cell_type": "markdown",
   "metadata": {},
   "source": [
    "Insights: \n",
    "- In both datasets, there are more single students than in a relationship (only 33% in maths dataset and 36% in Portuguese dataset). This might skew results as there is less data to analyze for students in a relationship. We can see that in the Portuguese dataset where there are more values to analyze, the scatter plot shapes tend to look more similar. \n",
    "- Not enough data to say if relationship has true impact on maths performance. "
   ]
  },
  {
   "cell_type": "code",
   "execution_count": null,
   "metadata": {},
   "outputs": [],
   "source": [
    "#Grade distribution to compare maths performance for males and females\n",
    "sns.kdeplot(data_m.loc[data_m['sex'] == 'F', 'G3'], label='Female', shade = True)\n",
    "sns.kdeplot(data_m.loc[data_m['sex'] == 'M', 'G3'], label='Male', shade = True)\n",
    "plt.title('Females vs Males Maths Performance', fontsize = 20)\n",
    "plt.xlabel('Grade', fontsize = 20);\n",
    "plt.ylabel('Density', fontsize = 20)\n",
    "plt.show()\n",
    "\n",
    "#Grade distribution to compare Portuguese performance for males and females\n",
    "sns.kdeplot(data_p.loc[data_p['sex'] == 'F', 'G3'], label='Female', shade = True)\n",
    "sns.kdeplot(data_p.loc[data_p['sex'] == 'M', 'G3'], label='Male', shade = True)\n",
    "plt.title('Females vs Males Portuguese Performance', fontsize = 20)\n",
    "plt.xlabel('Grade', fontsize = 20);\n",
    "plt.ylabel('Density', fontsize = 20)\n",
    "plt.show()\n",
    "\n"
   ]
  },
  {
   "cell_type": "markdown",
   "metadata": {},
   "source": [
    "Insights: \n",
    "- Maths performance seems to be fairly similar for both genders but males seem to score higher than females a bit more often.\n",
    "- For the Portuguese dataset, females tend to score higher than males more often."
   ]
  },
  {
   "cell_type": "code",
   "execution_count": null,
   "metadata": {},
   "outputs": [],
   "source": [
    "#Analyzing impact of choice of school on Portuguese performance\n",
    "b = sns.swarmplot(x='school', y='G3', data=data_p)\n",
    "b.axes.set_title('School Choice vs Final grade Portuguese', fontsize = 25)\n",
    "b.set_xlabel('School', fontsize = 20)\n",
    "b.set_ylabel('Final Grade', fontsize = 20)\n",
    "plt.show() \n",
    "print()\n",
    "school_MS= data_p[(data_p['school']) == \"MS\"][\"school\"].count()\n",
    "print('In the Portuguese dataset, ' + str(school_MS) + ' students out of 649 are going to Mousinho da Silveira.')"
   ]
  },
  {
   "cell_type": "markdown",
   "metadata": {},
   "source": [
    "Insights: \n",
    "- From the available data, MS students tend to score less than GP students in Portuguese. Maybe GP is specialized in Portuguese and students have access to higher-quality resources.\n",
    "- However as for the relationship analysis, there are less students going to MS so it might affect results."
   ]
  },
  {
   "cell_type": "markdown",
   "metadata": {},
   "source": [
    "### Multi-linear regression model"
   ]
  },
  {
   "cell_type": "markdown",
   "metadata": {},
   "source": [
    "We are now going to build a multi-linear regression model for both datasets. We will work only with the original numerical values of the dataset for simplicity. "
   ]
  },
  {
   "cell_type": "code",
   "execution_count": 16,
   "metadata": {},
   "outputs": [
    {
     "name": "stdout",
     "output_type": "stream",
     "text": [
      "The R^2 is:  0.12902067885275392\n",
      "famrel :  0.6705196258274518\n",
      "age :  0.12015580187674257\n",
      "failures :  -1.8823301394278142\n",
      "health :  0.01101629262703201\n",
      "Medu :  0.7383853659249365\n",
      "The intercept of our slope is:  4.221009461802302\n"
     ]
    }
   ],
   "source": [
    "# Reload maths performance dataset\n",
    "data = pd.read_csv(r'data\\student-mat.csv', sep=';')\n",
    "\n",
    "# Choose only numerical values of the dataset\n",
    "data = data.select_dtypes('int64')\n",
    "data = data[['famrel', 'age', 'failures', 'health', 'Medu', 'G3']]\n",
    "\n",
    "# Set our prediction of a students final score (G3)\n",
    "predict = 'G3'\n",
    "\n",
    "# Split-up X & y and make sure that they are np array's\n",
    "# sklearn needs numpy array's as inputs\n",
    "X = np.array(data.drop(predict, axis=1))\n",
    "y = np.array(data[predict])\n",
    "\n",
    "# Split-up our current X & y variables into training and testing data.\n",
    "\n",
    "X_train, X_test, y_train, y_test = train_test_split(\n",
    "    X, y, test_size=0.8, random_state=42\n",
    ")\n",
    "\n",
    "# Now we need to initiate our model and train it\n",
    "\n",
    "linear = LinearRegression()\n",
    "linear.fit(X_train, y_train)\n",
    "\n",
    "# Lets take a look at how well this model preforms\n",
    "print(\"The R^2 is: \", linear.score(X_test, y_test))\n",
    "coeff = linear.coef_\n",
    "intercept = linear.intercept_\n",
    "\n",
    "for i in range(len(coeff)):\n",
    "    print(data.columns[i], ': ', coeff[i])\n",
    "print('The intercept of our slope is: ', intercept)\n",
    "\n"
   ]
  },
  {
   "cell_type": "markdown",
   "metadata": {},
   "source": [
    "Insights for maths data set linear regression model:\n",
    "- Our model explains explains 12.9% of the inputs into the final grade\n",
    "- We can see that family relationship plays a big part in student performance: when a student increases their family relationship quality by 1 (e.g. from very good to excellent) they can expect an increase in final grade of 0.67 points.\n",
    "- Failures also play a decisive role in student performance: if a student has failed 4 classes or more in the past, they can except a decrease of 1.88 in their final score. \n",
    "- Age and Mother's education also play a significant in student performance."
   ]
  },
  {
   "cell_type": "code",
   "execution_count": 19,
   "metadata": {},
   "outputs": [
    {
     "name": "stdout",
     "output_type": "stream",
     "text": [
      "The R^2 is:  0.18379789863938334\n",
      "famrel :  0.3459785645547586\n",
      "age :  0.12429845975221776\n",
      "failures :  -1.564277194336613\n",
      "health :  -0.1196849810531379\n",
      "Medu :  0.4545942308626128\n",
      "The intercept of our slope is:  8.166804956860604\n"
     ]
    }
   ],
   "source": [
    "# Reload Portuguese performance dataset\n",
    "data = pd.read_csv(r'data\\student-por.csv', sep=';')\n",
    "\n",
    "# Choose only numerical values of the dataset\n",
    "data = data.select_dtypes('int64')\n",
    "data = data[['famrel', 'age', 'failures', 'health', 'Medu', 'G3']]\n",
    "\n",
    "# Set our prediction of a students final score (G3)\n",
    "predict = 'G3'\n",
    "\n",
    "# Split-up X & y and make sure that they are np array's\n",
    "# sklearn needs numpy array's as inputs\n",
    "X = np.array(data.drop(predict, axis=1))\n",
    "y = np.array(data[predict])\n",
    "\n",
    "# split-up our current X & y variables into training\n",
    "# and testing data.\n",
    "\n",
    "X_train, X_test, y_train, y_test = train_test_split(\n",
    "    X, y, test_size=0.8, random_state=42\n",
    ")\n",
    "\n",
    "# Now we need to initiate our model and train it\n",
    "\n",
    "linear = LinearRegression()\n",
    "linear.fit(X_train, y_train)\n",
    "\n",
    "# Lets take a look at how well this model preforms\n",
    "print(\"The R^2 is: \", linear.score(X_test, y_test))\n",
    "coeff = linear.coef_\n",
    "intercept = linear.intercept_\n",
    "\n",
    "for i in range(len(coeff)):\n",
    "    print(data.columns[i], ': ', coeff[i])\n",
    "print('The intercept of our slope is: ', intercept)"
   ]
  },
  {
   "cell_type": "code",
   "execution_count": 21,
   "metadata": {},
   "outputs": [
    {
     "name": "stdout",
     "output_type": "stream",
     "text": [
      "                            OLS Regression Results                            \n",
      "==============================================================================\n",
      "Dep. Variable:                      y   R-squared:                       0.167\n",
      "Model:                            OLS   Adj. R-squared:                  0.133\n",
      "Method:                 Least Squares   F-statistic:                     4.936\n",
      "Date:                Sat, 18 Apr 2020   Prob (F-statistic):           0.000375\n",
      "Time:                        12:11:03   Log-Likelihood:                -293.14\n",
      "No. Observations:                 129   AIC:                             598.3\n",
      "Df Residuals:                     123   BIC:                             615.4\n",
      "Df Model:                           5                                         \n",
      "Covariance Type:            nonrobust                                         \n",
      "==============================================================================\n",
      "                 coef    std err          t      P>|t|      [0.025      0.975]\n",
      "------------------------------------------------------------------------------\n",
      "const          8.1668      3.194      2.557      0.012       1.844      14.489\n",
      "x1             0.3460      0.244      1.418      0.159      -0.137       0.829\n",
      "x2             0.1243      0.181      0.685      0.495      -0.235       0.483\n",
      "x3            -1.5643      0.479     -3.265      0.001      -2.513      -0.616\n",
      "x4            -0.1197      0.148     -0.809      0.420      -0.412       0.173\n",
      "x5             0.4546      0.186      2.449      0.016       0.087       0.822\n",
      "==============================================================================\n",
      "Omnibus:                       18.711   Durbin-Watson:                   1.906\n",
      "Prob(Omnibus):                  0.000   Jarque-Bera (JB):               39.428\n",
      "Skew:                          -0.582   Prob(JB):                     2.74e-09\n",
      "Kurtosis:                       5.446   Cond. No.                         266.\n",
      "==============================================================================\n",
      "\n",
      "Warnings:\n",
      "[1] Standard Errors assume that the covariance matrix of the errors is correctly specified.\n"
     ]
    }
   ],
   "source": [
    "# sklearn learn is lacking in statistical inference so we'll have to bring in the big guns\n",
    "import statsmodels.api as sm\n",
    "from scipy import stats as sts\n",
    "\n",
    "Z_train = sm.add_constant(X_train)\n",
    "est = sm.OLS(y_train, Z_train)\n",
    "preds = est.fit()\n",
    "print(preds.summary())"
   ]
  },
  {
   "cell_type": "markdown",
   "metadata": {},
   "source": [
    "Let's look at the row containing x4 (health). The coefficient we get outputted is -0.1197 as we obtained before. Notes though that the 95% confidence interval for this estimate (last two columns) contains zero. That is to say, there is not strong evidence to say that this correlation exists. This is actually a complex idea and runs into territories of multicolinearity—which we solve using PRC (principle component regression). I'm happy to explain this concept to you (I think 5/10 minutes would do it) but it would have to be over Skype as it's hard to write down. Basically, the point is, you can't always trust your estimates. In fact, the only predictor that we have strong evidence for being influential is x3 and x5 (failures and mother's education). This is the same conclusion that I reached when I did the analysis—mother's education is surprisingly important (I believe the most important when you allow for term interactions). Perhaps this is because stay at home mothering is more common in Portugal and so their education impacts children a lot."
   ]
  },
  {
   "cell_type": "markdown",
   "metadata": {},
   "source": [
    "Insights for Portuguese dataset linear regression model:\n",
    "- Our model explains explains 18.37% of the inputs into the final grade\n",
    "- We can see that family relationship als0 plays a big part in student performance: when a student increases their family relationship quality by 1 (e.g. from very good to excellent) they can expect an increase in final grade of 0.34 points.\n",
    "- Failures also play a decisive role in student performance: if a student has failed 4 classes or more in the past, they can except a decrease of 1.56 in their final score. \n",
    "- Age and Mother's education also play a significant in student performance."
   ]
  },
  {
   "cell_type": "markdown",
   "metadata": {},
   "source": [
    "### Conclusion"
   ]
  },
  {
   "cell_type": "markdown",
   "metadata": {},
   "source": [
    "We have seen that many factors can influence your final grades, most of them being socioeconomic characteristics (address, parent's education, family relationship...) that cannot be changed. "
   ]
  }
 ],
 "metadata": {
  "kernelspec": {
   "display_name": "Python 3",
   "language": "python",
   "name": "python3"
  },
  "language_info": {
   "codemirror_mode": {
    "name": "ipython",
    "version": 3
   },
   "file_extension": ".py",
   "mimetype": "text/x-python",
   "name": "python",
   "nbconvert_exporter": "python",
   "pygments_lexer": "ipython3",
   "version": "3.7.4"
  }
 },
 "nbformat": 4,
 "nbformat_minor": 2
}
